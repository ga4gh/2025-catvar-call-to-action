{
 "cells": [
  {
   "cell_type": "code",
   "execution_count": 26,
   "id": "1b6c02af-43cc-4bb4-b739-882fe91eba45",
   "metadata": {},
   "outputs": [],
   "source": [
    "import matplotlib.pyplot as plt\n",
    "import numpy as np\n",
    "import pandas as pd\n",
    "\n",
    "from matplotlib import ticker\n",
    "\n",
    "%matplotlib inline\n",
    "%config InlineBackend.figure_format = 'retina'\n",
    "\n",
    "plt.rcParams[\"font.family\"] = \"arial\"\n",
    "\n",
    "def normalize_rgb(dictionary):\n",
    "    for color in dictionary.keys():\n",
    "        r, g, b = dictionary[color]\n",
    "        dictionary[color] = (r / 255., g / 255., b / 255.)\n",
    "    return dictionary\n",
    "\n",
    "tableau10 = {\n",
    "    'blue': (78, 121, 167), 'orange': (242, 142, 43), 'red': (225, 87, 89),\n",
    "    'cyan': (118, 183, 178), 'green': (89, 161, 79), 'yellow': (237, 201, 72),\n",
    "    'purple': (176, 122, 161), 'pink': (225, 157, 167), 'brown': (156, 117, 95),\n",
    "    'grey': (186, 176, 172), 'white': (240, 240, 240)\n",
    "}\n",
    "\n",
    "tableau10 = normalize_rgb(tableau10)\n",
    "\n",
    "def remove_spines(ax):\n",
    "    ax.spines[\"top\"].set_visible(False)    \n",
    "    ax.spines[\"bottom\"].set_visible(False)    \n",
    "    ax.spines[\"right\"].set_visible(False)    \n",
    "    ax.spines[\"left\"].set_visible(False)\n",
    "    return ax"
   ]
  },
  {
   "cell_type": "markdown",
   "id": "22ff42b9-2810-4fb1-855b-48c63618daac",
   "metadata": {},
   "source": [
    "## Load data"
   ]
  },
  {
   "cell_type": "code",
   "execution_count": 2,
   "id": "1c203960-1500-48fa-b7dd-4a9f85f481cd",
   "metadata": {},
   "outputs": [
    {
     "data": {
      "text/html": [
       "<div>\n",
       "<style scoped>\n",
       "    .dataframe tbody tr th:only-of-type {\n",
       "        vertical-align: middle;\n",
       "    }\n",
       "\n",
       "    .dataframe tbody tr th {\n",
       "        vertical-align: top;\n",
       "    }\n",
       "\n",
       "    .dataframe thead th {\n",
       "        text-align: right;\n",
       "    }\n",
       "</style>\n",
       "<table border=\"1\" class=\"dataframe\">\n",
       "  <thead>\n",
       "    <tr style=\"text-align: right;\">\n",
       "      <th></th>\n",
       "      <th>VariationID</th>\n",
       "      <th>AlleleID</th>\n",
       "      <th>NucleotideExpression</th>\n",
       "      <th>ProteinExpression</th>\n",
       "    </tr>\n",
       "  </thead>\n",
       "  <tbody>\n",
       "    <tr>\n",
       "      <th>0</th>\n",
       "      <td>25</td>\n",
       "      <td>15064</td>\n",
       "      <td>NC_000020.11:g.25383511_25397601del14091insGG</td>\n",
       "      <td>-</td>\n",
       "    </tr>\n",
       "    <tr>\n",
       "      <th>1</th>\n",
       "      <td>25</td>\n",
       "      <td>15064</td>\n",
       "      <td>NC_000020.11:g.25383511_25397600delinsG</td>\n",
       "      <td>-</td>\n",
       "    </tr>\n",
       "    <tr>\n",
       "      <th>2</th>\n",
       "      <td>25</td>\n",
       "      <td>15064</td>\n",
       "      <td>NC_000020.10:g.25364147_25378237delinsGG</td>\n",
       "      <td>-</td>\n",
       "    </tr>\n",
       "    <tr>\n",
       "      <th>3</th>\n",
       "      <td>25</td>\n",
       "      <td>15064</td>\n",
       "      <td>NC_000020.10:g.25364147_25378237del14091insGG</td>\n",
       "      <td>-</td>\n",
       "    </tr>\n",
       "    <tr>\n",
       "      <th>4</th>\n",
       "      <td>116</td>\n",
       "      <td>15155</td>\n",
       "      <td>NC_000013.10:g.29233226del</td>\n",
       "      <td>-</td>\n",
       "    </tr>\n",
       "  </tbody>\n",
       "</table>\n",
       "</div>"
      ],
      "text/plain": [
       "   VariationID  AlleleID                           NucleotideExpression  \\\n",
       "0           25     15064  NC_000020.11:g.25383511_25397601del14091insGG   \n",
       "1           25     15064        NC_000020.11:g.25383511_25397600delinsG   \n",
       "2           25     15064       NC_000020.10:g.25364147_25378237delinsGG   \n",
       "3           25     15064  NC_000020.10:g.25364147_25378237del14091insGG   \n",
       "4          116     15155                     NC_000013.10:g.29233226del   \n",
       "\n",
       "  ProteinExpression  \n",
       "0                 -  \n",
       "1                 -  \n",
       "2                 -  \n",
       "3                 -  \n",
       "4                 -  "
      ]
     },
     "execution_count": 2,
     "metadata": {},
     "output_type": "execute_result"
    }
   ],
   "source": [
    "file = 'hgvs4variation.txt'\n",
    "with open(file, 'r') as f:\n",
    "    last_comment = None\n",
    "    for line in f:\n",
    "        if line.startswith('#'):\n",
    "            last_comment = line\n",
    "        else:\n",
    "            break  # stop once the actual data begins\n",
    "\n",
    "columns = last_comment.lstrip(\"#\").strip().split(\"\\t\")\n",
    "\n",
    "df = pd.read_csv(\n",
    "    \"hgvs4variation.txt\",\n",
    "    sep=\"\\t\",\n",
    "    comment=\"#\",\n",
    "    names=columns,\n",
    "    header=None,\n",
    "    #nrows=10,\n",
    "    usecols=['VariationID', 'AlleleID', 'NucleotideExpression', 'ProteinExpression']\n",
    ")\n",
    "df.head()"
   ]
  },
  {
   "cell_type": "code",
   "execution_count": 3,
   "id": "e6428eac-6f07-4b55-acd8-1e9e941cf123",
   "metadata": {},
   "outputs": [
    {
     "name": "stdout",
     "output_type": "stream",
     "text": [
      "(3569416,) (3568536,)\n"
     ]
    }
   ],
   "source": [
    "print(df['VariationID'].unique().shape, df['AlleleID'].unique().shape)"
   ]
  },
  {
   "cell_type": "markdown",
   "id": "9c8168b2-78c3-4aa3-9fd7-bda9fcc19d9f",
   "metadata": {},
   "source": [
    "## Representative example\n",
    "Variation ID: 376130   \n",
    "URL: https://www.ncbi.nlm.nih.gov/clinvar/variation/376130/"
   ]
  },
  {
   "cell_type": "code",
   "execution_count": 4,
   "id": "fae35546-f54f-4a24-8743-b3f47d74c101",
   "metadata": {},
   "outputs": [
    {
     "name": "stdout",
     "output_type": "stream",
     "text": [
      "(7, 4)\n"
     ]
    },
    {
     "data": {
      "text/html": [
       "<div>\n",
       "<style scoped>\n",
       "    .dataframe tbody tr th:only-of-type {\n",
       "        vertical-align: middle;\n",
       "    }\n",
       "\n",
       "    .dataframe tbody tr th {\n",
       "        vertical-align: top;\n",
       "    }\n",
       "\n",
       "    .dataframe thead th {\n",
       "        text-align: right;\n",
       "    }\n",
       "</style>\n",
       "<table border=\"1\" class=\"dataframe\">\n",
       "  <thead>\n",
       "    <tr style=\"text-align: right;\">\n",
       "      <th></th>\n",
       "      <th>VariationID</th>\n",
       "      <th>AlleleID</th>\n",
       "      <th>NucleotideExpression</th>\n",
       "      <th>ProteinExpression</th>\n",
       "    </tr>\n",
       "  </thead>\n",
       "  <tbody>\n",
       "    <tr>\n",
       "      <th>22738775</th>\n",
       "      <td>376130</td>\n",
       "      <td>363009</td>\n",
       "      <td>NM_004958.3:c.4379T&gt;C</td>\n",
       "      <td>-</td>\n",
       "    </tr>\n",
       "    <tr>\n",
       "      <th>22738776</th>\n",
       "      <td>376130</td>\n",
       "      <td>363009</td>\n",
       "      <td>NC_000001.10:g.11217299A&gt;G</td>\n",
       "      <td>-</td>\n",
       "    </tr>\n",
       "    <tr>\n",
       "      <th>22738777</th>\n",
       "      <td>376130</td>\n",
       "      <td>363009</td>\n",
       "      <td>NC_000001.11:g.11157242A&gt;G</td>\n",
       "      <td>-</td>\n",
       "    </tr>\n",
       "    <tr>\n",
       "      <th>22738778</th>\n",
       "      <td>376130</td>\n",
       "      <td>363009</td>\n",
       "      <td>NG_033239.1:g.110310T&gt;C</td>\n",
       "      <td>-</td>\n",
       "    </tr>\n",
       "    <tr>\n",
       "      <th>22738779</th>\n",
       "      <td>376130</td>\n",
       "      <td>363009</td>\n",
       "      <td>NM_004958.4:c.4379T&gt;C</td>\n",
       "      <td>NP_004949.1:p.Leu1460Pro</td>\n",
       "    </tr>\n",
       "    <tr>\n",
       "      <th>22738780</th>\n",
       "      <td>376130</td>\n",
       "      <td>363009</td>\n",
       "      <td>LRG_734t1:c.4379T&gt;C</td>\n",
       "      <td>-</td>\n",
       "    </tr>\n",
       "    <tr>\n",
       "      <th>22738781</th>\n",
       "      <td>376130</td>\n",
       "      <td>363009</td>\n",
       "      <td>LRG_734:g.110310T&gt;C</td>\n",
       "      <td>-</td>\n",
       "    </tr>\n",
       "  </tbody>\n",
       "</table>\n",
       "</div>"
      ],
      "text/plain": [
       "          VariationID  AlleleID        NucleotideExpression  \\\n",
       "22738775       376130    363009       NM_004958.3:c.4379T>C   \n",
       "22738776       376130    363009  NC_000001.10:g.11217299A>G   \n",
       "22738777       376130    363009  NC_000001.11:g.11157242A>G   \n",
       "22738778       376130    363009     NG_033239.1:g.110310T>C   \n",
       "22738779       376130    363009       NM_004958.4:c.4379T>C   \n",
       "22738780       376130    363009         LRG_734t1:c.4379T>C   \n",
       "22738781       376130    363009         LRG_734:g.110310T>C   \n",
       "\n",
       "                 ProteinExpression  \n",
       "22738775                         -  \n",
       "22738776                         -  \n",
       "22738777                         -  \n",
       "22738778                         -  \n",
       "22738779  NP_004949.1:p.Leu1460Pro  \n",
       "22738780                         -  \n",
       "22738781                         -  "
      ]
     },
     "execution_count": 4,
     "metadata": {},
     "output_type": "execute_result"
    }
   ],
   "source": [
    "variation_id = 376130\n",
    "example = df[df['VariationID'].eq(variation_id)]\n",
    "print(example.shape)\n",
    "example"
   ]
  },
  {
   "cell_type": "code",
   "execution_count": 5,
   "id": "3c4252c9-e1e8-4196-8ddd-da3d9c17d95c",
   "metadata": {},
   "outputs": [
    {
     "name": "stdout",
     "output_type": "stream",
     "text": [
      "(3569416,) (3568536,)\n"
     ]
    }
   ],
   "source": [
    "print(df['VariationID'].unique().shape, df['AlleleID'].unique().shape)"
   ]
  },
  {
   "cell_type": "markdown",
   "id": "796e1fa8-fa9a-4811-aa71-2c63467a8adc",
   "metadata": {},
   "source": [
    "## Per Allele ID\n",
    "Information on Variation ID and Allele ID in ClinVar can be found [here](https://www.ncbi.nlm.nih.gov/clinvar/docs/identifiers/). This plot can be modified by changing the groupby column.\n",
    "\n",
    "**This section will take several minutes to execute**. "
   ]
  },
  {
   "cell_type": "code",
   "execution_count": 6,
   "id": "ac2d47ca-b864-4774-a1d8-6a35e84ff736",
   "metadata": {},
   "outputs": [],
   "source": [
    "groupby_column = 'AlleleID'\n",
    "\n",
    "results = []\n",
    "for label, group in df.groupby(groupby_column):\n",
    "    nucleotide_expressions = group[~group['NucleotideExpression'].eq('-')].shape[0]\n",
    "    protein_expressions = group[~group['ProteinExpression'].eq('-')].shape[0]\n",
    "    record = {\n",
    "        groupby_column: label,\n",
    "        'nucleotide_expressions': nucleotide_expressions,\n",
    "        'protein_expressions': protein_expressions,\n",
    "        'total': nucleotide_expressions + protein_expressions\n",
    "    }\n",
    "    results.append(record)\n",
    "results = pd.DataFrame(results)"
   ]
  },
  {
   "cell_type": "code",
   "execution_count": 7,
   "id": "f5bc00da-56a9-4058-9705-cc6d613c71cd",
   "metadata": {},
   "outputs": [
    {
     "data": {
      "text/html": [
       "<div>\n",
       "<style scoped>\n",
       "    .dataframe tbody tr th:only-of-type {\n",
       "        vertical-align: middle;\n",
       "    }\n",
       "\n",
       "    .dataframe tbody tr th {\n",
       "        vertical-align: top;\n",
       "    }\n",
       "\n",
       "    .dataframe thead th {\n",
       "        text-align: right;\n",
       "    }\n",
       "</style>\n",
       "<table border=\"1\" class=\"dataframe\">\n",
       "  <thead>\n",
       "    <tr style=\"text-align: right;\">\n",
       "      <th></th>\n",
       "      <th>AlleleID</th>\n",
       "      <th>nucleotide_expressions</th>\n",
       "      <th>protein_expressions</th>\n",
       "      <th>total</th>\n",
       "    </tr>\n",
       "  </thead>\n",
       "  <tbody>\n",
       "    <tr>\n",
       "      <th>0</th>\n",
       "      <td>-1</td>\n",
       "      <td>1105</td>\n",
       "      <td>0</td>\n",
       "      <td>1105</td>\n",
       "    </tr>\n",
       "    <tr>\n",
       "      <th>1</th>\n",
       "      <td>15041</td>\n",
       "      <td>10</td>\n",
       "      <td>2</td>\n",
       "      <td>12</td>\n",
       "    </tr>\n",
       "    <tr>\n",
       "      <th>2</th>\n",
       "      <td>15042</td>\n",
       "      <td>9</td>\n",
       "      <td>3</td>\n",
       "      <td>12</td>\n",
       "    </tr>\n",
       "    <tr>\n",
       "      <th>3</th>\n",
       "      <td>15043</td>\n",
       "      <td>5</td>\n",
       "      <td>2</td>\n",
       "      <td>7</td>\n",
       "    </tr>\n",
       "    <tr>\n",
       "      <th>4</th>\n",
       "      <td>15044</td>\n",
       "      <td>7</td>\n",
       "      <td>1</td>\n",
       "      <td>8</td>\n",
       "    </tr>\n",
       "    <tr>\n",
       "      <th>...</th>\n",
       "      <td>...</td>\n",
       "      <td>...</td>\n",
       "      <td>...</td>\n",
       "      <td>...</td>\n",
       "    </tr>\n",
       "    <tr>\n",
       "      <th>3568531</th>\n",
       "      <td>4022046</td>\n",
       "      <td>25</td>\n",
       "      <td>20</td>\n",
       "      <td>45</td>\n",
       "    </tr>\n",
       "    <tr>\n",
       "      <th>3568532</th>\n",
       "      <td>4022047</td>\n",
       "      <td>25</td>\n",
       "      <td>10</td>\n",
       "      <td>35</td>\n",
       "    </tr>\n",
       "    <tr>\n",
       "      <th>3568533</th>\n",
       "      <td>4022048</td>\n",
       "      <td>10</td>\n",
       "      <td>4</td>\n",
       "      <td>14</td>\n",
       "    </tr>\n",
       "    <tr>\n",
       "      <th>3568534</th>\n",
       "      <td>4022049</td>\n",
       "      <td>25</td>\n",
       "      <td>18</td>\n",
       "      <td>43</td>\n",
       "    </tr>\n",
       "    <tr>\n",
       "      <th>3568535</th>\n",
       "      <td>4022050</td>\n",
       "      <td>6</td>\n",
       "      <td>3</td>\n",
       "      <td>9</td>\n",
       "    </tr>\n",
       "  </tbody>\n",
       "</table>\n",
       "<p>3568536 rows × 4 columns</p>\n",
       "</div>"
      ],
      "text/plain": [
       "         AlleleID  nucleotide_expressions  protein_expressions  total\n",
       "0              -1                    1105                    0   1105\n",
       "1           15041                      10                    2     12\n",
       "2           15042                       9                    3     12\n",
       "3           15043                       5                    2      7\n",
       "4           15044                       7                    1      8\n",
       "...           ...                     ...                  ...    ...\n",
       "3568531   4022046                      25                   20     45\n",
       "3568532   4022047                      25                   10     35\n",
       "3568533   4022048                      10                    4     14\n",
       "3568534   4022049                      25                   18     43\n",
       "3568535   4022050                       6                    3      9\n",
       "\n",
       "[3568536 rows x 4 columns]"
      ]
     },
     "execution_count": 7,
     "metadata": {},
     "output_type": "execute_result"
    }
   ],
   "source": [
    "results"
   ]
  },
  {
   "cell_type": "code",
   "execution_count": 8,
   "id": "a4c8071a-b778-408b-864b-2dcbd82d38c6",
   "metadata": {},
   "outputs": [
    {
     "data": {
      "text/html": [
       "<div>\n",
       "<style scoped>\n",
       "    .dataframe tbody tr th:only-of-type {\n",
       "        vertical-align: middle;\n",
       "    }\n",
       "\n",
       "    .dataframe tbody tr th {\n",
       "        vertical-align: top;\n",
       "    }\n",
       "\n",
       "    .dataframe thead th {\n",
       "        text-align: right;\n",
       "    }\n",
       "</style>\n",
       "<table border=\"1\" class=\"dataframe\">\n",
       "  <thead>\n",
       "    <tr style=\"text-align: right;\">\n",
       "      <th></th>\n",
       "      <th>AlleleID</th>\n",
       "      <th>nucleotide_expressions</th>\n",
       "      <th>protein_expressions</th>\n",
       "      <th>total</th>\n",
       "    </tr>\n",
       "  </thead>\n",
       "  <tbody>\n",
       "    <tr>\n",
       "      <th>22123</th>\n",
       "      <td>46200</td>\n",
       "      <td>386</td>\n",
       "      <td>373</td>\n",
       "      <td>759</td>\n",
       "    </tr>\n",
       "    <tr>\n",
       "      <th>16111</th>\n",
       "      <td>32716</td>\n",
       "      <td>385</td>\n",
       "      <td>372</td>\n",
       "      <td>757</td>\n",
       "    </tr>\n",
       "    <tr>\n",
       "      <th>37461</th>\n",
       "      <td>70022</td>\n",
       "      <td>384</td>\n",
       "      <td>371</td>\n",
       "      <td>755</td>\n",
       "    </tr>\n",
       "    <tr>\n",
       "      <th>37229</th>\n",
       "      <td>69784</td>\n",
       "      <td>383</td>\n",
       "      <td>372</td>\n",
       "      <td>755</td>\n",
       "    </tr>\n",
       "    <tr>\n",
       "      <th>22102</th>\n",
       "      <td>46179</td>\n",
       "      <td>383</td>\n",
       "      <td>371</td>\n",
       "      <td>754</td>\n",
       "    </tr>\n",
       "    <tr>\n",
       "      <th>...</th>\n",
       "      <td>...</td>\n",
       "      <td>...</td>\n",
       "      <td>...</td>\n",
       "      <td>...</td>\n",
       "    </tr>\n",
       "    <tr>\n",
       "      <th>1698936</th>\n",
       "      <td>1945833</td>\n",
       "      <td>1</td>\n",
       "      <td>0</td>\n",
       "      <td>1</td>\n",
       "    </tr>\n",
       "    <tr>\n",
       "      <th>319754</th>\n",
       "      <td>436440</td>\n",
       "      <td>1</td>\n",
       "      <td>0</td>\n",
       "      <td>1</td>\n",
       "    </tr>\n",
       "    <tr>\n",
       "      <th>1698935</th>\n",
       "      <td>1945832</td>\n",
       "      <td>1</td>\n",
       "      <td>0</td>\n",
       "      <td>1</td>\n",
       "    </tr>\n",
       "    <tr>\n",
       "      <th>319753</th>\n",
       "      <td>436439</td>\n",
       "      <td>1</td>\n",
       "      <td>0</td>\n",
       "      <td>1</td>\n",
       "    </tr>\n",
       "    <tr>\n",
       "      <th>3067543</th>\n",
       "      <td>3518264</td>\n",
       "      <td>1</td>\n",
       "      <td>0</td>\n",
       "      <td>1</td>\n",
       "    </tr>\n",
       "  </tbody>\n",
       "</table>\n",
       "<p>3568535 rows × 4 columns</p>\n",
       "</div>"
      ],
      "text/plain": [
       "         AlleleID  nucleotide_expressions  protein_expressions  total\n",
       "22123       46200                     386                  373    759\n",
       "16111       32716                     385                  372    757\n",
       "37461       70022                     384                  371    755\n",
       "37229       69784                     383                  372    755\n",
       "22102       46179                     383                  371    754\n",
       "...           ...                     ...                  ...    ...\n",
       "1698936   1945833                       1                    0      1\n",
       "319754     436440                       1                    0      1\n",
       "1698935   1945832                       1                    0      1\n",
       "319753     436439                       1                    0      1\n",
       "3067543   3518264                       1                    0      1\n",
       "\n",
       "[3568535 rows x 4 columns]"
      ]
     },
     "execution_count": 8,
     "metadata": {},
     "output_type": "execute_result"
    }
   ],
   "source": [
    "# I think that AlleleID -1 must be a bug or placeholder value?\n",
    "results_cleaned = results[~results[groupby_column].eq(-1)]\n",
    "results_cleaned.sort_values(by='total', ascending=False)"
   ]
  },
  {
   "cell_type": "code",
   "execution_count": 9,
   "id": "178d29a7-57bd-4a6c-8171-d6724cd43c00",
   "metadata": {},
   "outputs": [
    {
     "data": {
      "text/html": [
       "<div>\n",
       "<style scoped>\n",
       "    .dataframe tbody tr th:only-of-type {\n",
       "        vertical-align: middle;\n",
       "    }\n",
       "\n",
       "    .dataframe tbody tr th {\n",
       "        vertical-align: top;\n",
       "    }\n",
       "\n",
       "    .dataframe thead th {\n",
       "        text-align: right;\n",
       "    }\n",
       "</style>\n",
       "<table border=\"1\" class=\"dataframe\">\n",
       "  <thead>\n",
       "    <tr style=\"text-align: right;\">\n",
       "      <th></th>\n",
       "      <th>AlleleID</th>\n",
       "      <th>nucleotide_expressions</th>\n",
       "      <th>protein_expressions</th>\n",
       "      <th>total</th>\n",
       "    </tr>\n",
       "  </thead>\n",
       "  <tbody>\n",
       "    <tr>\n",
       "      <th>1</th>\n",
       "      <td>15041</td>\n",
       "      <td>10</td>\n",
       "      <td>2</td>\n",
       "      <td>12</td>\n",
       "    </tr>\n",
       "    <tr>\n",
       "      <th>2</th>\n",
       "      <td>15042</td>\n",
       "      <td>9</td>\n",
       "      <td>3</td>\n",
       "      <td>12</td>\n",
       "    </tr>\n",
       "    <tr>\n",
       "      <th>3</th>\n",
       "      <td>15043</td>\n",
       "      <td>5</td>\n",
       "      <td>2</td>\n",
       "      <td>7</td>\n",
       "    </tr>\n",
       "    <tr>\n",
       "      <th>4</th>\n",
       "      <td>15044</td>\n",
       "      <td>7</td>\n",
       "      <td>1</td>\n",
       "      <td>8</td>\n",
       "    </tr>\n",
       "    <tr>\n",
       "      <th>5</th>\n",
       "      <td>15045</td>\n",
       "      <td>6</td>\n",
       "      <td>2</td>\n",
       "      <td>8</td>\n",
       "    </tr>\n",
       "    <tr>\n",
       "      <th>...</th>\n",
       "      <td>...</td>\n",
       "      <td>...</td>\n",
       "      <td>...</td>\n",
       "      <td>...</td>\n",
       "    </tr>\n",
       "    <tr>\n",
       "      <th>3568531</th>\n",
       "      <td>4022046</td>\n",
       "      <td>25</td>\n",
       "      <td>20</td>\n",
       "      <td>45</td>\n",
       "    </tr>\n",
       "    <tr>\n",
       "      <th>3568532</th>\n",
       "      <td>4022047</td>\n",
       "      <td>25</td>\n",
       "      <td>10</td>\n",
       "      <td>35</td>\n",
       "    </tr>\n",
       "    <tr>\n",
       "      <th>3568533</th>\n",
       "      <td>4022048</td>\n",
       "      <td>10</td>\n",
       "      <td>4</td>\n",
       "      <td>14</td>\n",
       "    </tr>\n",
       "    <tr>\n",
       "      <th>3568534</th>\n",
       "      <td>4022049</td>\n",
       "      <td>25</td>\n",
       "      <td>18</td>\n",
       "      <td>43</td>\n",
       "    </tr>\n",
       "    <tr>\n",
       "      <th>3568535</th>\n",
       "      <td>4022050</td>\n",
       "      <td>6</td>\n",
       "      <td>3</td>\n",
       "      <td>9</td>\n",
       "    </tr>\n",
       "  </tbody>\n",
       "</table>\n",
       "<p>3568535 rows × 4 columns</p>\n",
       "</div>"
      ],
      "text/plain": [
       "         AlleleID  nucleotide_expressions  protein_expressions  total\n",
       "1           15041                      10                    2     12\n",
       "2           15042                       9                    3     12\n",
       "3           15043                       5                    2      7\n",
       "4           15044                       7                    1      8\n",
       "5           15045                       6                    2      8\n",
       "...           ...                     ...                  ...    ...\n",
       "3568531   4022046                      25                   20     45\n",
       "3568532   4022047                      25                   10     35\n",
       "3568533   4022048                      10                    4     14\n",
       "3568534   4022049                      25                   18     43\n",
       "3568535   4022050                       6                    3      9\n",
       "\n",
       "[3568535 rows x 4 columns]"
      ]
     },
     "execution_count": 9,
     "metadata": {},
     "output_type": "execute_result"
    }
   ],
   "source": [
    "results_cleaned"
   ]
  },
  {
   "cell_type": "code",
   "execution_count": null,
   "id": "b4f198cb-5053-4aea-ae78-5ee95832b809",
   "metadata": {},
   "outputs": [],
   "source": []
  },
  {
   "cell_type": "code",
   "execution_count": null,
   "id": "05570965-a60d-421f-80f2-96e34deed034",
   "metadata": {},
   "outputs": [],
   "source": []
  },
  {
   "cell_type": "code",
   "execution_count": 43,
   "id": "a570bc19-324c-4d53-9a64-2fdf6e9fd853",
   "metadata": {},
   "outputs": [
    {
     "data": {
      "text/plain": [
       "count    3.568535e+06\n",
       "mean     1.453847e+01\n",
       "std      4.038431e+01\n",
       "min      1.000000e+00\n",
       "25%      6.000000e+00\n",
       "50%      9.000000e+00\n",
       "75%      1.300000e+01\n",
       "max      7.590000e+02\n",
       "Name: total, dtype: float64"
      ]
     },
     "execution_count": 43,
     "metadata": {},
     "output_type": "execute_result"
    }
   ],
   "source": [
    "data = results_cleaned['total']\n",
    "description = data.describe()\n",
    "description"
   ]
  },
  {
   "cell_type": "code",
   "execution_count": 44,
   "id": "bb2074e6-ea25-47c4-a466-e397c414323e",
   "metadata": {},
   "outputs": [
    {
     "data": {
      "text/plain": [
       "np.float64(1.0)"
      ]
     },
     "execution_count": 44,
     "metadata": {},
     "output_type": "execute_result"
    }
   ],
   "source": [
    "description.loc['min']"
   ]
  },
  {
   "cell_type": "code",
   "execution_count": 45,
   "id": "4080cc3d-32d8-4e8e-b0af-bfed4dab9bdd",
   "metadata": {},
   "outputs": [
    {
     "data": {
      "text/plain": [
       "np.float64(759.0)"
      ]
     },
     "execution_count": 45,
     "metadata": {},
     "output_type": "execute_result"
    }
   ],
   "source": [
    "description.loc['max']"
   ]
  },
  {
   "cell_type": "code",
   "execution_count": 46,
   "id": "adb43605-5ea9-46f9-8882-5c34d21fe6bf",
   "metadata": {},
   "outputs": [
    {
     "data": {
      "text/plain": [
       "np.float64(14.538474752244268)"
      ]
     },
     "execution_count": 46,
     "metadata": {},
     "output_type": "execute_result"
    }
   ],
   "source": [
    "description.loc['mean']"
   ]
  },
  {
   "cell_type": "code",
   "execution_count": 47,
   "id": "d9cbfb66-7609-412e-99c4-8c94ff6677c2",
   "metadata": {},
   "outputs": [
    {
     "data": {
      "text/plain": [
       "np.float64(9.0)"
      ]
     },
     "execution_count": 47,
     "metadata": {},
     "output_type": "execute_result"
    }
   ],
   "source": [
    "description.loc['50%']"
   ]
  },
  {
   "cell_type": "code",
   "execution_count": 48,
   "id": "5def30d4-26e1-467f-8b34-0cd443f4d589",
   "metadata": {},
   "outputs": [
    {
     "data": {
      "image/png": "[encoded data removed]",
      "text/plain": [
       "<Figure size 900x600 with 1 Axes>"
      ]
     },
     "metadata": {
      "image/png": {
       "height": 587,
       "width": 889
      }
     },
     "output_type": "display_data"
    }
   ],
   "source": [
    "filename = f\"clinvar-expressions-per-{groupby_column}\"\n",
    "save_figures = True\n",
    "\n",
    "x = data.to_numpy()\n",
    "xmin = max(1, x.min())                 \n",
    "xmax = x.max()\n",
    "bins = np.logspace(np.log10(xmin), np.log10(xmax), 60)\n",
    "\n",
    "fig, ax = plt.subplots(figsize=(9, 6))\n",
    "ax.hist(x, bins=bins, zorder=2, color=tableau10['blue'])\n",
    "\n",
    "ax.set_xscale('log')\n",
    "ax.set_xlabel(f'Total expressions (nucleotide and protein) per {groupby_column} (log-spaced bins)', fontsize=12)\n",
    "ax.set_ylabel(f'ClinVar {groupby_column} counts', fontsize=12)\n",
    "ax.set_title(f\"Expressions per {groupby_column} in ClinVar\", fontsize=12)\n",
    "ax.tick_params(axis='both', which='both', length=0)\n",
    "\n",
    "ax.yaxis.set_major_formatter(ticker.StrMethodFormatter('{x:,.0f}'))\n",
    "ax.yaxis.set_major_locator(ticker.MaxNLocator(integer=True))\n",
    "\n",
    "ax.set_axisbelow(True)\n",
    "ax.grid(True, which='both', axis='y', alpha=0.3, linestyle='--', linewidth=1)\n",
    "\n",
    "remove_spines(ax)\n",
    "plt.tight_layout()\n",
    "\n",
    "if save_figures:\n",
    "    for suffix in ['png', 'svg']:\n",
    "        outname = f'{filename}.{suffix}'\n",
    "        plt.savefig(outname, format=suffix, bbox_inches='tight', dpi=300)\n",
    "\n",
    "plt.show()"
   ]
  },
  {
   "cell_type": "code",
   "execution_count": null,
   "id": "6f401298-3821-41b6-9245-995c552b0a12",
   "metadata": {},
   "outputs": [],
   "source": []
  }
 ],
 "metadata": {
  "kernelspec": {
   "display_name": "2025-catvar-call-to-action",
   "language": "python",
   "name": "2025-catvar-call-to-action"
  },
  "language_info": {
   "codemirror_mode": {
    "name": "ipython",
    "version": 3
   },
   "file_extension": ".py",
   "mimetype": "text/x-python",
   "name": "python",
   "nbconvert_exporter": "python",
   "pygments_lexer": "ipython3",
   "version": "3.12.11"
  }
 },
 "nbformat": 4,
 "nbformat_minor": 5
}
